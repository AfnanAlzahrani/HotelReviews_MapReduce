{
 "cells": [
  {
   "cell_type": "code",
   "execution_count": 1,
   "metadata": {},
   "outputs": [
    {
     "name": "stdout",
     "output_type": "stream",
     "text": [
      "Overwriting Reviews.py\n"
     ]
    }
   ],
   "source": [
    "%%file Reviews.py  \n",
    "#Magic function that saves the code cell as a file\n",
    "\n",
    "from mrjob.job import MRJob #import the mrjob library\n",
    "from mrjob.step import MRStep #import the MRStep library\n",
    "import csv #import the csv library\n",
    "\n",
    "#store columns names\n",
    "columns = [\"Review\",\"Rating\"]\n",
    "\n",
    "class NoRatings(MRJob): # Create a class named NoRatings (number of Ratings )\n",
    "    def steps(self): # Create method named steps and pass  the mapper and the reducer for MRStep \n",
    "        return[\n",
    "            MRStep(mapper=self.mapping,\n",
    "                  reducer=self.reducing)\n",
    "        ]\n",
    "    \n",
    "#Create Mapper function \n",
    "    def mapping(self, _, line): #(_, line)ignore the key and take each line of the document as the value.\n",
    "       reader = csv.reader([line]) #reader from csv file line by line\n",
    "       for row in reader: # for loop to read rows \n",
    "           zipped=zip(columns,row) # creates a tuple  ,,, the columns is the key , row is the values\n",
    "           diction=dict(zipped) # creates dic \n",
    "           ratings=diction['Rating'] #store Rating \n",
    "          \n",
    "           yield ratings, 1  #outputing as key value pairs\n",
    "        \n",
    "#Reducer function\n",
    "    def reducing(self, key, values):  #sum all the values per key \n",
    "       yield key, sum(values)\n",
    "    \n",
    "if __name__ == \"__main__\":\n",
    "    NoRatings.run()"
   ]
  },
  {
   "cell_type": "code",
   "execution_count": 2,
   "metadata": {},
   "outputs": [
    {
     "name": "stdout",
     "output_type": "stream",
     "text": [
      "\"1\"\t1421\n",
      "\"2\"\t1793\n",
      "\"3\"\t2184\n",
      "\"4\"\t6039\n",
      "\"5\"\t9054\n",
      "\"Rating\"\t1\n"
     ]
    },
    {
     "name": "stderr",
     "output_type": "stream",
     "text": [
      "No configs found; falling back on auto-configuration\n",
      "No configs specified for inline runner\n",
      "Creating temp directory C:\\Users\\juman\\AppData\\Local\\Temp\\Reviews.juman.20221123.192954.925607\n",
      "Running step 1 of 1...\n",
      "job output is in C:\\Users\\juman\\AppData\\Local\\Temp\\Reviews.juman.20221123.192954.925607\\output\n",
      "Streaming final output from C:\\Users\\juman\\AppData\\Local\\Temp\\Reviews.juman.20221123.192954.925607\\output...\n",
      "Removing temp directory C:\\Users\\juman\\AppData\\Local\\Temp\\Reviews.juman.20221123.192954.925607...\n"
     ]
    }
   ],
   "source": [
    "# run the code as a terminal command\n",
    "!python Reviews.py Hotel_Reviews.csv"
   ]
  }
 ],
 "metadata": {
  "kernelspec": {
   "display_name": "Python 3.9.13 ('base')",
   "language": "python",
   "name": "python3"
  },
  "language_info": {
   "codemirror_mode": {
    "name": "ipython",
    "version": 3
   },
   "file_extension": ".py",
   "mimetype": "text/x-python",
   "name": "python",
   "nbconvert_exporter": "python",
   "pygments_lexer": "ipython3",
   "version": "3.9.13"
  },
  "orig_nbformat": 4,
  "vscode": {
   "interpreter": {
    "hash": "b2dbf1203128af0b6968be9bada9935508394635760a08dff4f40d298095f607"
   }
  }
 },
 "nbformat": 4,
 "nbformat_minor": 2
}
